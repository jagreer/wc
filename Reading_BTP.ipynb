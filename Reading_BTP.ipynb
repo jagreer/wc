{
 "cells": [
  {
   "cell_type": "code",
   "execution_count": 6,
   "metadata": {},
   "outputs": [
    {
     "name": "stdout",
     "output_type": "stream",
     "text": [
      "shape: (4, 4)\n",
      "┌───────┬────────────────────┬───────────────────┬───────────────────────────────────┐\n",
      "│ Index ┆ Question           ┆ TableFormat       ┆ AttributeValues                   │\n",
      "│ ---   ┆ ---                ┆ ---               ┆ ---                               │\n",
      "│ i64   ┆ str                ┆ str               ┆ str                               │\n",
      "╞═══════╪════════════════════╪═══════════════════╪═══════════════════════════════════╡\n",
      "│ 1     ┆ Q1.Overall Liking  ┆ Full,Mean,T2B,B2B ┆ 10=Like Extremely\\n9=9\\n8=8\\n7=7… │\n",
      "│ 2     ┆ Q2.Purchase Intent ┆ 1,2,T2B,3,B2B,4,5 ┆ 5=Definitely Would Purchase\\n4=P… │\n",
      "│ 3     ┆ Q3.Scent Liking    ┆ Full,Mean,T2B,B2B ┆ 10=Like Extremely\\n9=9\\n8=8\\n7=7… │\n",
      "│ 4     ┆ Q4.Scent JAR       ┆ JAR,T2B,B2B       ┆ 5=Much Too Strong\\n4=Very Strong… │\n",
      "└───────┴────────────────────┴───────────────────┴───────────────────────────────────┘\n",
      "(2, 'Q2.Purchase Intent', '1,2,T2B,3,B2B,4,5', '5=Definitely Would Purchase\\\\n4=Probably Would Purchase\\\\n3=Might or Might Not Purchase\\\\n2=Probably Would Not Purchase\\\\n1=Definitely Would Not Purchase')\n"
     ]
    }
   ],
   "source": [
    "import polars as pl\n",
    "import pandas as pd\n",
    "\n",
    "file_path = \"./BTP/BTP.csv\"\n",
    "\n",
    "btp = pl.read_csv(source=file_path, has_header=True)\n",
    "#btp = pd.read_csv(filepath_or_buffer=file_path)\n",
    "print(btp)\n",
    "\n",
    "question_row = btp.row(1)\n",
    "print(question_row)\n"
   ]
  },
  {
   "cell_type": "code",
   "execution_count": 9,
   "metadata": {},
   "outputs": [],
   "source": [
    "columns = btp.columns"
   ]
  },
  {
   "cell_type": "code",
   "execution_count": 10,
   "metadata": {},
   "outputs": [
    {
     "data": {
      "text/plain": [
       "{'Index': 2,\n",
       " 'Question': 'Q2.Purchase Intent',\n",
       " 'TableFormat': '1,2,T2B,3,B2B,4,5',\n",
       " 'AttributeValues': '5=Definitely Would Purchase\\\\n4=Probably Would Purchase\\\\n3=Might or Might Not Purchase\\\\n2=Probably Would Not Purchase\\\\n1=Definitely Would Not Purchase'}"
      ]
     },
     "execution_count": 10,
     "metadata": {},
     "output_type": "execute_result"
    }
   ],
   "source": [
    "row_dict = dict(zip(columns, question_row))\n",
    "row_dict"
   ]
  },
  {
   "attachments": {},
   "cell_type": "markdown",
   "metadata": {},
   "source": [
    "# Processing"
   ]
  },
  {
   "cell_type": "code",
   "execution_count": 2,
   "metadata": {},
   "outputs": [],
   "source": [
    "question_row = btp.iloc[1, :]"
   ]
  },
  {
   "cell_type": "code",
   "execution_count": 3,
   "metadata": {},
   "outputs": [],
   "source": [
    "# The question itself\n",
    "question = question_row[\"Question\"]"
   ]
  },
  {
   "cell_type": "code",
   "execution_count": 4,
   "metadata": {},
   "outputs": [
    {
     "data": {
      "text/plain": [
       "'1,2,T2B,3,B2B,4,5'"
      ]
     },
     "execution_count": 4,
     "metadata": {},
     "output_type": "execute_result"
    }
   ],
   "source": [
    "question_row[\"TableFormat\"]"
   ]
  },
  {
   "attachments": {},
   "cell_type": "markdown",
   "metadata": {},
   "source": [
    "Add space between period (.) and title"
   ]
  },
  {
   "cell_type": "code",
   "execution_count": 6,
   "metadata": {},
   "outputs": [
    {
     "name": "stdout",
     "output_type": "stream",
     "text": [
      "Q1.Purchase Intent\n",
      "Q1. Purchase Intent\n"
     ]
    }
   ],
   "source": [
    "print(question)\n",
    "question_final = ''\n",
    "# Question: Q1.Overall Liking\n",
    "if question.find('.') != -1 and question[question.find('.') + 1] != ' ':\n",
    "    # Add a space after the period\n",
    "    question_final = question.replace('.', '. ')\n",
    "print(question_final)"
   ]
  },
  {
   "attachments": {},
   "cell_type": "markdown",
   "metadata": {},
   "source": [
    "## Make into a function"
   ]
  },
  {
   "cell_type": "code",
   "execution_count": 7,
   "metadata": {},
   "outputs": [],
   "source": [
    "def add_space(question_title: str) -> str:\n",
    "    \"\"\"Adds a space after the period in the question title.\"\"\"\n",
    "    if question_title.find('.') != -1 and question_title[question_title.find('.') + 1] != ' ':\n",
    "        # Add space\n",
    "        question_title = question_title.replace('.', '. ')\n",
    "    return question_title"
   ]
  },
  {
   "attachments": {},
   "cell_type": "markdown",
   "metadata": {},
   "source": [
    "Test it out:"
   ]
  },
  {
   "cell_type": "code",
   "execution_count": 9,
   "metadata": {},
   "outputs": [
    {
     "name": "stdout",
     "output_type": "stream",
     "text": [
      "Q1.Purchase Intent\n",
      "Q1. Purchase Intent\n"
     ]
    }
   ],
   "source": [
    "# Print before\n",
    "print(question)\n",
    "\n",
    "# Run function\n",
    "question_clean = add_space(question)\n",
    "\n",
    "# Print new title\n",
    "print(question_clean)"
   ]
  },
  {
   "attachments": {},
   "cell_type": "markdown",
   "metadata": {},
   "source": [
    "# Attribute Values"
   ]
  },
  {
   "attachments": {},
   "cell_type": "markdown",
   "metadata": {},
   "source": [
    "Need to split the attribute values and put them in a sensible data structure."
   ]
  },
  {
   "cell_type": "code",
   "execution_count": 15,
   "metadata": {},
   "outputs": [],
   "source": [
    "attribute_pair = question_row[\"AttributePair\"]"
   ]
  },
  {
   "cell_type": "code",
   "execution_count": 17,
   "metadata": {},
   "outputs": [
    {
     "data": {
      "text/plain": [
       "'5=Definitely Would Purchase\\n4=Probably Would Purchase\\n3=Might or Might Not Purchase\\n2=Probably Would Not Purchase\\n1=Definitely Would Not Purchase'"
      ]
     },
     "execution_count": 17,
     "metadata": {},
     "output_type": "execute_result"
    }
   ],
   "source": [
    "attribute_pair"
   ]
  },
  {
   "cell_type": "code",
   "execution_count": 21,
   "metadata": {},
   "outputs": [
    {
     "name": "stdout",
     "output_type": "stream",
     "text": [
      "['5=Definitely Would Purchase', '4=Probably Would Purchase', '3=Might or Might Not Purchase', '2=Probably Would Not Purchase', '1=Definitely Would Not Purchase']\n",
      "[('5', 'Definitely Would Purchase'), ('4', 'Probably Would Purchase'), ('3', 'Might or Might Not Purchase'), ('2', 'Probably Would Not Purchase'), ('1', 'Definitely Would Not Purchase')]\n"
     ]
    }
   ],
   "source": [
    "lines = attribute_pair.split(\"\\n\")\n",
    "print(lines)\n",
    "\n",
    "line_pairs = []\n",
    "for line in lines:\n",
    "    line_pairs.append(tuple(line.split('=')))\n",
    "print(line_pairs)"
   ]
  },
  {
   "attachments": {},
   "cell_type": "markdown",
   "metadata": {},
   "source": []
  },
  {
   "cell_type": "code",
   "execution_count": 24,
   "metadata": {},
   "outputs": [
    {
     "name": "stdout",
     "output_type": "stream",
     "text": [
      "  Value                      Attribute\n",
      "0     5      Definitely Would Purchase\n",
      "1     4        Probably Would Purchase\n",
      "2     3    Might or Might Not Purchase\n",
      "3     2    Probably Would Not Purchase\n",
      "4     1  Definitely Would Not Purchase\n",
      "   Value                      Attribute\n",
      "0      5      Definitely Would Purchase\n",
      "1      4        Probably Would Purchase\n",
      "2      3    Might or Might Not Purchase\n",
      "3      2    Probably Would Not Purchase\n",
      "4      1  Definitely Would Not Purchase\n"
     ]
    }
   ],
   "source": [
    "df = pd.DataFrame(line_pairs, columns=[\"Value\", \"Attribute\"])\n",
    "print(df)\n",
    "df['Value'] = df['Value'].astype(int)\n",
    "print(df)"
   ]
  },
  {
   "cell_type": "code",
   "execution_count": 29,
   "metadata": {},
   "outputs": [
    {
     "data": {
      "text/plain": [
       "'T2B,B2B,Full'"
      ]
     },
     "execution_count": 29,
     "metadata": {},
     "output_type": "execute_result"
    }
   ],
   "source": [
    "# Get T2B\n",
    "question_row[\"TableFormat\"]"
   ]
  },
  {
   "cell_type": "code",
   "execution_count": 87,
   "metadata": {},
   "outputs": [],
   "source": [
    "def add_space(question_title: str) -> str:\n",
    "    \"\"\"Adds a space after the period in the question title.\"\"\"\n",
    "    if question_title.find('.') != -1 and question_title[question_title.find('.') + 1] != ' ':\n",
    "        # Add space\n",
    "        question_title = question_title.replace('.', '. ')\n",
    "    return question_title\n",
    "\n",
    "class SurveyQuestion:\n",
    "    def __init__(self, question: str, attribute_pair: str, table_format: str):\n",
    "        self.question = self.process_question(question)\n",
    "        self.table_format = table_format.split(',')\n",
    "        self.attribute_frame = self._process_attribute_pair(attribute_pair)\n",
    "\n",
    "    def _process_attribute_pair(self, attribute_pair: str):\n",
    "        lines = attribute_pair.split('\\n')\n",
    "        #print(lines)\n",
    "        line_pairs = []\n",
    "        for line in lines:\n",
    "            line_pairs.append(tuple(line.split('=')))\n",
    "        #print(line_pairs)\n",
    "        df = pd.DataFrame(line_pairs, columns=['Value', 'Attribute'])\n",
    "        df[\"Value\"] = df[\"Value\"].astype(int)\n",
    "        return df\n",
    "\n",
    "    def process_question(self, question):\n",
    "        return add_space(question)"
   ]
  },
  {
   "cell_type": "code",
   "execution_count": 88,
   "metadata": {},
   "outputs": [],
   "source": [
    "survey_question = SurveyQuestion(question, attribute_pair, question_row[\"TableFormat\"]) "
   ]
  },
  {
   "cell_type": "code",
   "execution_count": 91,
   "metadata": {},
   "outputs": [
    {
     "data": {
      "text/html": [
       "<div>\n",
       "<style scoped>\n",
       "    .dataframe tbody tr th:only-of-type {\n",
       "        vertical-align: middle;\n",
       "    }\n",
       "\n",
       "    .dataframe tbody tr th {\n",
       "        vertical-align: top;\n",
       "    }\n",
       "\n",
       "    .dataframe thead th {\n",
       "        text-align: right;\n",
       "    }\n",
       "</style>\n",
       "<table border=\"1\" class=\"dataframe\">\n",
       "  <thead>\n",
       "    <tr style=\"text-align: right;\">\n",
       "      <th></th>\n",
       "      <th>Value</th>\n",
       "      <th>Attribute</th>\n",
       "    </tr>\n",
       "  </thead>\n",
       "  <tbody>\n",
       "    <tr>\n",
       "      <th>0</th>\n",
       "      <td>5</td>\n",
       "      <td>Definitely Would Purchase</td>\n",
       "    </tr>\n",
       "    <tr>\n",
       "      <th>1</th>\n",
       "      <td>4</td>\n",
       "      <td>Probably Would Purchase</td>\n",
       "    </tr>\n",
       "    <tr>\n",
       "      <th>2</th>\n",
       "      <td>3</td>\n",
       "      <td>Might or Might Not Purchase</td>\n",
       "    </tr>\n",
       "    <tr>\n",
       "      <th>3</th>\n",
       "      <td>2</td>\n",
       "      <td>Probably Would Not Purchase</td>\n",
       "    </tr>\n",
       "    <tr>\n",
       "      <th>4</th>\n",
       "      <td>1</td>\n",
       "      <td>Definitely Would Not Purchase</td>\n",
       "    </tr>\n",
       "  </tbody>\n",
       "</table>\n",
       "</div>"
      ],
      "text/plain": [
       "   Value                      Attribute\n",
       "0      5      Definitely Would Purchase\n",
       "1      4        Probably Would Purchase\n",
       "2      3    Might or Might Not Purchase\n",
       "3      2    Probably Would Not Purchase\n",
       "4      1  Definitely Would Not Purchase"
      ]
     },
     "execution_count": 91,
     "metadata": {},
     "output_type": "execute_result"
    }
   ],
   "source": [
    "survey_question.attribute_frame"
   ]
  },
  {
   "attachments": {},
   "cell_type": "markdown",
   "metadata": {},
   "source": [
    "# Table Format"
   ]
  },
  {
   "attachments": {},
   "cell_type": "markdown",
   "metadata": {},
   "source": [
    "Table format is a comma separated string"
   ]
  },
  {
   "cell_type": "code",
   "execution_count": 11,
   "metadata": {},
   "outputs": [
    {
     "name": "stdout",
     "output_type": "stream",
     "text": [
      "T2B,B2B,Full\n"
     ]
    }
   ],
   "source": [
    "# \"T3B,T2B,B2B,Full,Mean\"\n",
    "print(question_row[\"TableFormat\"])"
   ]
  },
  {
   "cell_type": "code",
   "execution_count": null,
   "metadata": {},
   "outputs": [],
   "source": [
    "def create_t2b(attribute_values: str) -> str:\n",
    "    pass"
   ]
  },
  {
   "attachments": {},
   "cell_type": "markdown",
   "metadata": {},
   "source": [
    "## Polars"
   ]
  },
  {
   "cell_type": "code",
   "execution_count": 14,
   "metadata": {},
   "outputs": [
    {
     "name": "stdout",
     "output_type": "stream",
     "text": [
      "shape: (2, 4)\n",
      "┌───────┬────────────────────┬───────────────────────┬─────────────────────────────┐\n",
      "│ Index ┆ Question           ┆ TableFormat           ┆ AttributePair               │\n",
      "│ ---   ┆ ---                ┆ ---                   ┆ ---                         │\n",
      "│ i64   ┆ str                ┆ str                   ┆ str                         │\n",
      "╞═══════╪════════════════════╪═══════════════════════╪═════════════════════════════╡\n",
      "│ 1     ┆ Q1.Overall Liking  ┆ T3B,T2B,B2B,Full,Mean ┆ 10=Like Extremely           │\n",
      "│       ┆                    ┆                       ┆ 9=9                         │\n",
      "│       ┆                    ┆                       ┆ 8=8                         │\n",
      "│       ┆                    ┆                       ┆ 7=7                         │\n",
      "│       ┆                    ┆                       ┆ 6=…                         │\n",
      "│ 2     ┆ Q2.Purchase Intent ┆ T2B,B2B,Full          ┆ 5=Definitely Would Purchase │\n",
      "│       ┆                    ┆                       ┆ 4=Pr…                       │\n",
      "└───────┴────────────────────┴───────────────────────┴─────────────────────────────┘\n"
     ]
    },
    {
     "data": {
      "text/plain": [
       "(2,\n",
       " 'Q2.Purchase Intent',\n",
       " 'T2B,B2B,Full',\n",
       " '5=Definitely Would Purchase\\n4=Probably Would Purchase\\n3=Might or Might Not Purchase\\n2=Probably Would Not Purchase\\n1=Definitely Would Not Purchase')"
      ]
     },
     "execution_count": 14,
     "metadata": {},
     "output_type": "execute_result"
    }
   ],
   "source": [
    "import polars as pl\n",
    "import pandas as pd\n",
    "\n",
    "file_path = \"./BTP/BTP.csv\"\n",
    "\n",
    "btp = pl.read_csv(source=file_path, has_header=True)\n",
    "print(btp)\n",
    "\n",
    "btp.row(1)\n"
   ]
  },
  {
   "cell_type": "code",
   "execution_count": 28,
   "metadata": {},
   "outputs": [
    {
     "data": {
      "text/plain": [
       "'T3B,T2B,B2B,Full,Mean'"
      ]
     },
     "execution_count": 28,
     "metadata": {},
     "output_type": "execute_result"
    }
   ],
   "source": [
    "btp.filter(pl.col(\"Index\")==1).select(pl.col(\"TableFormat\")).to_dict()['TableFormat'][0]"
   ]
  },
  {
   "cell_type": "code",
   "execution_count": 33,
   "metadata": {},
   "outputs": [
    {
     "data": {
      "text/plain": [
       "'T3B,T2B,B2B,Full,Mean'"
      ]
     },
     "execution_count": 33,
     "metadata": {},
     "output_type": "execute_result"
    }
   ],
   "source": [
    "btp.filter(pl.col(\"Index\") == 1).select(pl.col(\"TableFormat\")).to_dict()[\"TableFormat\"][0]"
   ]
  },
  {
   "attachments": {},
   "cell_type": "markdown",
   "metadata": {},
   "source": [
    "## Pure Python\n"
   ]
  },
  {
   "cell_type": "code",
   "execution_count": 2,
   "metadata": {},
   "outputs": [],
   "source": [
    "import polars as pl\n",
    "import pandas as pd\n",
    "\n",
    "file_path = \"./BTP/BTP.csv\"\n",
    "csv = pl.read_csv(file_path)\n",
    "question_list = csv.to_dicts()"
   ]
  },
  {
   "cell_type": "code",
   "execution_count": 3,
   "metadata": {},
   "outputs": [],
   "source": [
    "question_row = question_list[0]\n",
    "question_1 = question_row[\"Question\"]"
   ]
  },
  {
   "cell_type": "code",
   "execution_count": 4,
   "metadata": {},
   "outputs": [
    {
     "data": {
      "text/plain": [
       "'Q1.Overall Liking'"
      ]
     },
     "execution_count": 4,
     "metadata": {},
     "output_type": "execute_result"
    }
   ],
   "source": [
    "question_1"
   ]
  },
  {
   "attachments": {},
   "cell_type": "markdown",
   "metadata": {},
   "source": [
    "## Question Title"
   ]
  },
  {
   "cell_type": "code",
   "execution_count": 5,
   "metadata": {},
   "outputs": [],
   "source": [
    "class QuestionTitle:\n",
    "    def __init__(self, raw_question: str):\n",
    "        # Store the raw question\n",
    "        self.raw_question = raw_question\n",
    "        # Split the raw question into the question variable and question label\n",
    "        self.question_variable, self.question_label = self._split_question(raw_question)\n",
    "    \n",
    "    def _split_question(self, question: str) -> tuple:\n",
    "        # Split the question string into two parts using the period (.) as the delimiter\n",
    "        parts = question.split('.', 1)\n",
    "        # If the question string does not contain a period, raise an error\n",
    "        if len(parts) != 2:\n",
    "            raise ValueError(\"Invalid question format. Expected format: 'Qx.Question Label'\")\n",
    "        # Return the question variable and question label, both stripped of leading and trailing spaces\n",
    "        return parts[0].strip(), parts[1].strip()\n",
    "\n",
    "    def clean_question(self) -> str:\n",
    "        # If the question variable or question label contains non-ASCII characters, raise an error\n",
    "        if not self.question_variable.isascii() or not self.question_label.isascii():\n",
    "            raise ValueError(\"Question contains non-ASCII characters.\")\n",
    "        # Return the cleaned question string, which is the question variable, a period, a space, and the question label\n",
    "        return f\"{self.question_variable}. {self.question_label}\""
   ]
  },
  {
   "cell_type": "code",
   "execution_count": 6,
   "metadata": {},
   "outputs": [],
   "source": [
    "class QuestionTitle:\n",
    "    def __init__(self, raw_question: str):\n",
    "        self.raw_question = raw_question\n",
    "    \n",
    "    def clean_question(self, question: str) -> str:\n",
    "        return question.replace(\".\", \". \")"
   ]
  },
  {
   "cell_type": "code",
   "execution_count": 7,
   "metadata": {},
   "outputs": [
    {
     "data": {
      "text/plain": [
       "'Q1. Overall Liking'"
      ]
     },
     "execution_count": 7,
     "metadata": {},
     "output_type": "execute_result"
    }
   ],
   "source": [
    "def clean_question(question: str) -> str:\n",
    "    return question.replace(\".\", \". \")\n",
    "\n",
    "clean_question(question_1)"
   ]
  },
  {
   "cell_type": "code",
   "execution_count": 8,
   "metadata": {},
   "outputs": [],
   "source": [
    "def split_table_format(table_format: str) -> str:\n",
    "    return table_format.split(\",\")"
   ]
  },
  {
   "cell_type": "code",
   "execution_count": 9,
   "metadata": {},
   "outputs": [
    {
     "data": {
      "text/plain": [
       "['Full', 'Mean', 'T2B', 'B2B']"
      ]
     },
     "execution_count": 9,
     "metadata": {},
     "output_type": "execute_result"
    }
   ],
   "source": [
    "split_table_format(question_row[\"TableFormat\"])"
   ]
  },
  {
   "attachments": {},
   "cell_type": "markdown",
   "metadata": {},
   "source": [
    "## Attribute Value Pairs"
   ]
  },
  {
   "cell_type": "code",
   "execution_count": 10,
   "metadata": {},
   "outputs": [
    {
     "data": {
      "text/plain": [
       "'10=Like Extremely\\\\n9=9\\\\n8=8\\\\n7=7\\\\n6=6\\\\n5=5\\\\n4=4\\\\n3=3\\\\n2=2\\\\n1=Dislike Extremely'"
      ]
     },
     "execution_count": 10,
     "metadata": {},
     "output_type": "execute_result"
    }
   ],
   "source": [
    "question_row[\"AttributeValues\"]"
   ]
  },
  {
   "cell_type": "code",
   "execution_count": 11,
   "metadata": {},
   "outputs": [],
   "source": [
    "class AttributeValuePair:\n",
    "    def __init__(self, attribute_value_pair: str, table_format: str):\n",
    "        self.raw_attribute_value_pair = attribute_value_pair\n",
    "        self.caret = \"^\"\n",
    "        self.open_bracket = \"(\"\n",
    "        self.close_bracket = \")\"\n",
    "        self.full = self.make_full(self.raw_attribute_value_pair)\n",
    "        self.table_format = table_format\n",
    "        self.split_table_format = self.split_table_format(self.table_format)\n",
    "\n",
    "    def split_pairs(self, raw_attribute_value_pair: str) -> str:\n",
    "        return raw_attribute_value_pair.split(\"\\\\n\")\n",
    "\n",
    "    def get_attr_value_pairs(self, attr_pair_list: str) -> list[list[str]]:\n",
    "        return [q.split(\"=\") for q in attr_pair_list]   \n",
    "\n",
    "    def format_wc_value_no_q(self, value: str) -> str:\n",
    "        return \"\".join([self.caret, self.open_bracket, value, self.close_bracket, self.caret])\n",
    "    \n",
    "    def make_full(self, raw_attribute_value_pair: str) -> str:\n",
    "        split_attribute_values = self.split_pairs(raw_attribute_value_pair)\n",
    "        list_of_attribute_values = self.get_attr_value_pairs(split_attribute_values)\n",
    "\n",
    "        out = \"\"\n",
    "        for pair in list_of_attribute_values:\n",
    "            out = out + \"\".join([pair[1], \" \", self.format_wc_value_no_q(pair[0]), \"\\n\"])\n",
    "        return out\n",
    "    \n",
    "    # Add more checks to this\n",
    "    def split_table_format(self, table_format):\n",
    "        return table_format.split(\",\")\n",
    "    \n",
    "    def make_top_2_box(self, raw_attribute_values: str) -> str:\n",
    "        split_attribute_values = self.split_pairs(raw_attribute_values)\n",
    "        list_of_attribute_values = self.get_attr_value_pairs(split_attribute_values)\n",
    "        print(list_of_attribute_values)\n",
    "        values = []\n",
    "        for value, attribute in list_of_attribute_values:\n",
    "            values.append(int(value))\n",
    "        # sort descending\n",
    "        return values"
   ]
  },
  {
   "cell_type": "code",
   "execution_count": 12,
   "metadata": {},
   "outputs": [
    {
     "data": {
      "text/plain": [
       "'Like Extremely ^(10)^\\n9 ^(9)^\\n8 ^(8)^\\n7 ^(7)^\\n6 ^(6)^\\n5 ^(5)^\\n4 ^(4)^\\n3 ^(3)^\\n2 ^(2)^\\nDislike Extremely ^(1)^\\n'"
      ]
     },
     "execution_count": 12,
     "metadata": {},
     "output_type": "execute_result"
    }
   ],
   "source": [
    "attrpair = AttributeValuePair(question_row[\"AttributeValues\"], question_row[\"TableFormat\"])\n",
    "attrpair.full"
   ]
  },
  {
   "cell_type": "code",
   "execution_count": 13,
   "metadata": {},
   "outputs": [
    {
     "name": "stdout",
     "output_type": "stream",
     "text": [
      "[['10', 'Like Extremely'], ['9', '9'], ['8', '8'], ['7', '7'], ['6', '6'], ['5', '5'], ['4', '4'], ['3', '3'], ['2', '2'], ['1', 'Dislike Extremely']]\n"
     ]
    },
    {
     "data": {
      "text/plain": [
       "[10, 9, 8, 7, 6, 5, 4, 3, 2, 1]"
      ]
     },
     "execution_count": 13,
     "metadata": {},
     "output_type": "execute_result"
    }
   ],
   "source": [
    "attrpair.make_top_2_box(attrpair.raw_attribute_value_pair)"
   ]
  },
  {
   "cell_type": "code",
   "execution_count": 46,
   "metadata": {},
   "outputs": [
    {
     "data": {
      "text/plain": [
       "['10=Like Extremely',\n",
       " '9=9',\n",
       " '8=8',\n",
       " '7=7',\n",
       " '6=6',\n",
       " '5=5',\n",
       " '4=4',\n",
       " '3=3',\n",
       " '2=2',\n",
       " '1=Dislike Extremely']"
      ]
     },
     "execution_count": 46,
     "metadata": {},
     "output_type": "execute_result"
    }
   ],
   "source": [
    "question_row[\"AttributeValues\"].split(\"\\\\n\")"
   ]
  },
  {
   "cell_type": "code",
   "execution_count": 43,
   "metadata": {},
   "outputs": [
    {
     "data": {
      "text/plain": [
       "'Like Extremely ^(10)^\\n9 ^(9)^\\n8 ^(8)^\\n7 ^(7)^\\n6 ^(6)^\\n5 ^(5)^\\n4 ^(4)^\\n3 ^(3)^\\n2 ^(2)^\\nDislike Extremely ^(1)^\\n'"
      ]
     },
     "execution_count": 43,
     "metadata": {},
     "output_type": "execute_result"
    }
   ],
   "source": [
    "def get_attr_value_pairs(attr_pair_list: str) -> list[list[str]]:\n",
    "    return [q.split(\"=\") for q in attr_pair_list]\n",
    "\n",
    "def format_wc_value_no_q(attr_value: str) -> str:\n",
    "    caret = \"^\"\n",
    "    open_bracket = \"(\"\n",
    "    closed_bracket = \")\"\n",
    "    return \"\".join([caret, open_bracket, attr_value, closed_bracket, caret])\n",
    "\n",
    "def attribute_values_full(attribute_values: str) -> str:\n",
    "    split_attribute_values = attribute_values.split(\"\\\\n\")\n",
    "    list_of_attribute_values = get_attr_value_pairs(split_attribute_values)\n",
    "\n",
    "    out = \"\"\n",
    "    for pair in list_of_attribute_values:\n",
    "        out = out + \"\".join([pair[1],\" \", format_wc_value_no_q(pair[0]), \"\\n\"])\n",
    "    return out\n",
    "\n",
    "full_table = attribute_values_full(question_row[\"AttributeValues\"])\n",
    "full_table"
   ]
  },
  {
   "cell_type": "code",
   "execution_count": 12,
   "metadata": {},
   "outputs": [
    {
     "data": {
      "text/plain": [
       "['10=Like Extremely',\n",
       " '9=9',\n",
       " '8=8',\n",
       " '7=7',\n",
       " '6=6',\n",
       " '5=5',\n",
       " '4=4',\n",
       " '3=3',\n",
       " '2=2',\n",
       " '1=Dislike Extremely']"
      ]
     },
     "execution_count": 12,
     "metadata": {},
     "output_type": "execute_result"
    }
   ],
   "source": [
    "question_row[\"AttributeValues\"].split(\"\\\\n\")"
   ]
  },
  {
   "cell_type": "code",
   "execution_count": 18,
   "metadata": {},
   "outputs": [],
   "source": [
    "split_attr_pair = question_row[\"AttributeValues\"].split(\"\\\\n\")"
   ]
  },
  {
   "cell_type": "code",
   "execution_count": 19,
   "metadata": {},
   "outputs": [
    {
     "data": {
      "text/plain": [
       "['10=Like Extremely',\n",
       " '9=9',\n",
       " '8=8',\n",
       " '7=7',\n",
       " '6=6',\n",
       " '5=5',\n",
       " '4=4',\n",
       " '3=3',\n",
       " '2=2',\n",
       " '1=Dislike Extremely']"
      ]
     },
     "execution_count": 19,
     "metadata": {},
     "output_type": "execute_result"
    }
   ],
   "source": [
    "split_attr_pair"
   ]
  },
  {
   "cell_type": "code",
   "execution_count": 16,
   "metadata": {},
   "outputs": [],
   "source": [
    "def get_attr_value_pairs(attr_pair: str) -> list[list[str]]:\n",
    "    return [q.split(\"=\") for q in attr_pair]"
   ]
  },
  {
   "cell_type": "code",
   "execution_count": 20,
   "metadata": {},
   "outputs": [
    {
     "data": {
      "text/plain": [
       "[['10', 'Like Extremely'],\n",
       " ['9', '9'],\n",
       " ['8', '8'],\n",
       " ['7', '7'],\n",
       " ['6', '6'],\n",
       " ['5', '5'],\n",
       " ['4', '4'],\n",
       " ['3', '3'],\n",
       " ['2', '2'],\n",
       " ['1', 'Dislike Extremely']]"
      ]
     },
     "execution_count": 20,
     "metadata": {},
     "output_type": "execute_result"
    }
   ],
   "source": [
    "get_attr_value_pairs(split_attr_pair)"
   ]
  },
  {
   "cell_type": "code",
   "execution_count": 14,
   "metadata": {},
   "outputs": [],
   "source": [
    "def format_wc_value_no_q(attr_value: str) -> str:\n",
    "    caret = \"^\"\n",
    "    open_bracket = \"(\"\n",
    "    closed_bracket = \")\"\n",
    "    return \"\".join([caret, open_bracket, attr_value, closed_bracket, caret])"
   ]
  },
  {
   "cell_type": "code",
   "execution_count": 21,
   "metadata": {},
   "outputs": [
    {
     "ename": "NameError",
     "evalue": "name 'attribute_values_full' is not defined",
     "output_type": "error",
     "traceback": [
      "\u001b[1;31m---------------------------------------------------------------------------\u001b[0m",
      "\u001b[1;31mNameError\u001b[0m                                 Traceback (most recent call last)",
      "Cell \u001b[1;32mIn[21], line 1\u001b[0m\n\u001b[1;32m----> 1\u001b[0m attr_pair \u001b[39m=\u001b[39m attribute_values_full(question_row[\u001b[39m\"\u001b[39m\u001b[39mAttributeValues\u001b[39m\u001b[39m\"\u001b[39m])\n\u001b[0;32m      2\u001b[0m out \u001b[39m=\u001b[39m \u001b[39m\"\u001b[39m\u001b[39m\"\u001b[39m\n\u001b[0;32m      3\u001b[0m \u001b[39mfor\u001b[39;00m pair \u001b[39min\u001b[39;00m attr_pair:\n",
      "\u001b[1;31mNameError\u001b[0m: name 'attribute_values_full' is not defined"
     ]
    }
   ],
   "source": [
    "attr_pair = attribute_values_full(question_row[\"AttributeValues\"])\n",
    "out = \"\"\n",
    "for pair in attr_pair:\n",
    "    out = out + \"\".join([pair[1],\" \", format_wc_value_no_q(pair[0]), \"\\n\"])\n",
    "print(out)"
   ]
  },
  {
   "cell_type": "code",
   "execution_count": 44,
   "metadata": {},
   "outputs": [],
   "source": [
    "out_str = attribute_values_full(question_row[\"AttributeValues\"])\n",
    "with open(\"./out_str.txt\", \"w\") as f:\n",
    "    f.write(out_str)"
   ]
  },
  {
   "cell_type": "code",
   "execution_count": null,
   "metadata": {},
   "outputs": [],
   "source": [
    "from string import Template\n",
    "from abc import ABC, abstractproperty\n",
    "\n",
    "class WCTable(ABC):\n",
    "    def __init__(self):\n",
    "        pass\n",
    "    \n",
    "    @abstractproperty\n",
    "    def settings(self) -> str:\n",
    "        pass\n",
    "\n",
    "class WCShortTable:\n",
    "\n",
    "class WCTableFactory(self, long_short: str):"
   ]
  },
  {
   "attachments": {},
   "cell_type": "markdown",
   "metadata": {},
   "source": [
    "All tables start with a `table_index` line.\n",
    "- For short tables, each `question` has its own table_index\n",
    "- For long tables, one table can hold many questions\n",
    "\n",
    "All tables have a `settings` line\n",
    "- Most of the time, the default settings are sufficient for both types of tables"
   ]
  },
  {
   "attachments": {},
   "cell_type": "markdown",
   "metadata": {},
   "source": [
    "# Table Settings"
   ]
  },
  {
   "cell_type": "code",
   "execution_count": 1,
   "metadata": {},
   "outputs": [],
   "source": [
    "import re\n",
    "\n",
    "class TableSettings:\n",
    "    \"\"\"WinCross Script table settings\"\"\"\n",
    "    def __init__(self):\n",
    "        self.default = \"OF,OR,OQ,OI,O%,S1,OB\"\n",
    "        self.__ensure_no_duplicates(self.default)\n",
    "        self.final = self.default\n",
    "\n",
    "    def __ensure_no_duplicates(self, settings: str):\n",
    "        settings_list = settings.split(\",\")\n",
    "        sorted_settings_list = sorted(set(settings_list))\n",
    "        self.final = \",\".join(sorted_settings_list)\n",
    "\n",
    "    def add_base(self) -> bool:\n",
    "        final_list = self.final.split(\",\")\n",
    "        final_list.append(\"OD\")\n",
    "        final_final = \",\".join(final_list)\n",
    "        self.__ensure_no_duplicates(final_final)\n",
    "    \n",
    "    def validate(self, settings: str) -> bool:\n",
    "        settings_valid = False\n",
    "        pattern = r\"([A-Za-z%0-9]{2},)*([A-Za-z%0-9]{2})$\"\n",
    "        match = re.fullmatch(pattern, settings)\n",
    "        if match:\n",
    "            settings_valid = True\n",
    "        return settings_valid\n",
    "        \n",
    "    def __str__(self):\n",
    "        return f\"{self.final}\"\n",
    "    \n",
    "    def __repr__(self):\n",
    "        return f\"{self.final}\""
   ]
  },
  {
   "attachments": {},
   "cell_type": "markdown",
   "metadata": {},
   "source": [
    "Improved class"
   ]
  },
  {
   "cell_type": "code",
   "execution_count": 9,
   "metadata": {},
   "outputs": [],
   "source": [
    "import re\n",
    "from typing import List\n",
    "\n",
    "class TableOptions:\n",
    "    \"\"\"WinCross Script table settings\"\"\"\n",
    "    _DEFAULT_SETTINGS = \"OR,OV,OI,O%,RV,S1,P0,V2,SA,SP\"\n",
    "    _VALID_SETTINGS = set(_DEFAULT_SETTINGS.split(\",\") + [\"OD\", \"OO\", \"OS\", \"OW\", \"ON\", \"OV\", \"OH\", \"CP\", \"DW\", \"O$\", \"OC\", \"OT\", \"ST\", \"OF\", \"S\", \"F\", \"F1\", \"F2\", \"F3\", \"P0\", \"P1\", \"P2\", \"P3\", \"OA\", \"R%\", \"RA\", \"RT#\"])\n",
    "    _FREQ_SETTINGS = set([\"F1\", \"F2\", \"F3\"])\n",
    "    _PERCENT_SETTINGS = set([\"P0\", \"P1\", \"P2\", \"P3\"])\n",
    "\n",
    "    def __init__(self):\n",
    "        self.final = self._ensure_no_duplicates(self._DEFAULT_SETTINGS)\n",
    "\n",
    "    @staticmethod\n",
    "    def _ensure_no_duplicates(settings: str) -> str:\n",
    "        \"\"\"Return a string of unique, sorted settings from the input string.\"\"\"\n",
    "        return \",\".join(sorted(set(settings.split(\",\"))))\n",
    "\n",
    "    def add_rank_descending(self) -> None:\n",
    "        \"\"\"Add 'OD' to the settings if it's not already there.\"\"\"\n",
    "        if \"OD\" not in self.final:\n",
    "            self.final += \",OD\"\n",
    "            self.final = self._ensure_no_duplicates(self.final)\n",
    "\n",
    "    def validate(self, settings: str) -> bool:\n",
    "        \"\"\"Check if the settings string is valid.\"\"\"\n",
    "        settings_set = set(settings.split(\",\"))\n",
    "        if not settings_set.issubset(self._VALID_SETTINGS):\n",
    "            return False\n",
    "        if len(self._FREQ_SETTINGS.intersection(settings_set)) > 1:\n",
    "            return False\n",
    "        if len(self._PERCENT_SETTINGS.intersection(settings_set)) > 1:\n",
    "            return False\n",
    "        return True\n",
    "\n",
    "    def __str__(self) -> str:\n",
    "        return self.final\n",
    "\n",
    "    def __repr__(self) -> str:\n",
    "        return f\"TableSettings({self.final})\""
   ]
  },
  {
   "cell_type": "code",
   "execution_count": 10,
   "metadata": {},
   "outputs": [
    {
     "data": {
      "text/plain": [
       "TableSettings(O%,OI,OR,OV,P0,RV,S1,SA,SP,V2)"
      ]
     },
     "execution_count": 10,
     "metadata": {},
     "output_type": "execute_result"
    }
   ],
   "source": [
    "settings = TableOptions()\n",
    "settings"
   ]
  },
  {
   "cell_type": "code",
   "execution_count": 12,
   "metadata": {},
   "outputs": [],
   "source": [
    "settings.add_rank_descending()"
   ]
  },
  {
   "cell_type": "code",
   "execution_count": 14,
   "metadata": {},
   "outputs": [
    {
     "name": "stdout",
     "output_type": "stream",
     "text": [
      "O%,OD,OI,OR,OV,P0,RV,S1,SA,SP,V2\n"
     ]
    }
   ],
   "source": [
    "print(settings)"
   ]
  },
  {
   "attachments": {},
   "cell_type": "markdown",
   "metadata": {},
   "source": [
    "Table options\n",
    "\n",
    "OQ = Show the Total row\n",
    "OR = Show Frequencies -- Only per request\n",
    "OV = Show Vertical percents\n",
    "OH = Show Horizontal percents -- Only for 1 client\n",
    "OB = Hide blank rows -- Only for the same 1 client\n",
    "OI = Indent levels on NET and SUB rows\n",
    "O% = Show percent sign on percents\n",
    "F1 = Show one decimal place on frequencies -- either or F2\n",
    "F2 = Show two decimal places on frequencies -- either or F1\n",
    "P0 = Show no decimal places on percents -- either or P1/P2\n",
    "P1 = Show one decimal place on percents -- either or P0/P2\n",
    "P2 = Show two decimal places on percents -- either or P0/P1\n",
    "\n",
    "**Rank**\n",
    "OD = Rank descending\n",
    "OA = Rank ascending\n",
    "R% = Rank by percents/means (Default: Rank by frequencies/means)\n",
    "\n",
    "**Statistics Options**\n",
    "SB = Show Sample size for statistic base\n",
    "SM = Show Mean\n",
    "SV = Show Standard deviation\n",
    "SR = Show Standard error\n",
    "SD = Show Median\n",
    "\n",
    "**Statistic Decimal Places**\n",
    "S0 = (Central tendency) Show no decimal places on statistics (except Standard deviation and Standard error)\n",
    "S1 = (Central tendency) Show one decimal place on statistics (except Standard deviation and Standard error)\n",
    "S2 = (Central tendency) Show two decimal places on statistics (except Standard deviation and Standard error)\n",
    "S3 = (Central tendency) Show three decimal places on statistics (except Standard deviation and Standard error)\n",
    "V0 = (Variability) Show no decimal places on Standard deviation and Standard error\n",
    "V1 = (Variability) Show one decimal place on Standard deviation and Standard error\n",
    "V2 = (Variability) Show two decimal places on Standard deviation and Standard error\n",
    "V3 = (Variability) Show three decimal places on Standard deviation and Standard error"
   ]
  },
  {
   "attachments": {},
   "cell_type": "markdown",
   "metadata": {},
   "source": [
    "## Row Options"
   ]
  },
  {
   "cell_type": "code",
   "execution_count": null,
   "metadata": {},
   "outputs": [],
   "source": []
  }
 ],
 "metadata": {
  "kernelspec": {
   "display_name": "curionenv",
   "language": "python",
   "name": "python3"
  },
  "language_info": {
   "codemirror_mode": {
    "name": "ipython",
    "version": 3
   },
   "file_extension": ".py",
   "mimetype": "text/x-python",
   "name": "python",
   "nbconvert_exporter": "python",
   "pygments_lexer": "ipython3",
   "version": "3.11.2"
  },
  "orig_nbformat": 4
 },
 "nbformat": 4,
 "nbformat_minor": 2
}
